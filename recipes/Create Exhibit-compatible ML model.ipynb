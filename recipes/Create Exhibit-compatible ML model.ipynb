{
 "cells": [
  {
   "cell_type": "code",
   "execution_count": 1,
   "id": "187214c6",
   "metadata": {},
   "outputs": [],
   "source": [
    "import pandas as pd\n",
    "import numpy as np\n",
    "import dill\n",
    "import seaborn as sns\n",
    "import matplotlib.pyplot as plt\n",
    "\n",
    "from sklearn.preprocessing import OrdinalEncoder\n",
    "from sklearn.naive_bayes import CategoricalNB\n",
    "\n",
    "from exhibit import exhibit as xbt"
   ]
  },
  {
   "cell_type": "code",
   "execution_count": 2,
   "id": "8bcaaa84",
   "metadata": {},
   "outputs": [],
   "source": [
    "# important to set this to True to avoid import problems\n",
    "dill.settings['recurse']=True"
   ]
  },
  {
   "cell_type": "markdown",
   "id": "932db9b7",
   "metadata": {},
   "source": [
    "#### Create a dataset with a pattern we want our ML model to learn\n",
    "Specifically, that smokers are between ages 10 and 89 and that smoking is more prevalent among males"
   ]
  },
  {
   "cell_type": "code",
   "execution_count": 3,
   "id": "bb0085c2",
   "metadata": {},
   "outputs": [],
   "source": [
    "# specification for our model dataset\n",
    "model_spec_dict = {\n",
    "    \"metadata\" : {\n",
    "        \"number_of_rows\"      : 10_000,\n",
    "        \"uuid_columns\"  : [],\n",
    "        \"categorical_columns\" : [\"sex\", \"age\"],\n",
    "        \"numerical_columns\"   : [\"smoker_flag\"],\n",
    "        \"date_columns\"  : [],\n",
    "        \"geospatial_columns\"  : [],\n",
    "        \"inline_limit\"        : 30,\n",
    "        \"random_seed\"         : 42,\n",
    "        \"id\"                  : \"smoke\"\n",
    "    },\n",
    "    \"columns\" : {\n",
    "        \"sex\"  : {\n",
    "            \"type\"                         : \"categorical\",\n",
    "            \"paired_columns\"               : [],\n",
    "            \"uniques\"                      : 2,\n",
    "            \"original_values\"              : pd.DataFrame(\n",
    "                data=[(\"Female\", 0.5, 0.3), (\"Male\", 0.5, 0.7), (\"Missing data\", 0, 0)],\n",
    "                columns=[\"sex\", \"probability_vector\", \"smoker_flag\"]),\n",
    "            \"cross_join_all_unique_values\" : False,\n",
    "            \"miss_probability\"             : 0,\n",
    "            \"anonymising_set\"              : \"random\"\n",
    "        },\n",
    "        \"age\"  : {\n",
    "            \"type\"                         : \"categorical\",\n",
    "            \"paired_columns\"               : [],\n",
    "            \"uniques\"                      : 10,\n",
    "            \"original_values\"              : pd.DataFrame(\n",
    "                data=[\n",
    "                    (\"0-9\",   0.2, 0.0),\n",
    "                    (\"10-19\", 0.5, 0.1),\n",
    "                    (\"20-29\", 0.5, 0.2),\n",
    "                    (\"30-39\", 0.5, 0.3),\n",
    "                    (\"40-49\", 0.5, 0.4),\n",
    "                    (\"50-59\", 0.5, 0.4),\n",
    "                    (\"60-69\", 0.5, 0.3),\n",
    "                    (\"70-79\", 0.5, 0.1),\n",
    "                    (\"80-89\", 0.5, 0.01),\n",
    "                    (\"90+\",   0.2, 0.0),\n",
    "                    (\"Missing data\", 0, 0.8)\n",
    "                ],\n",
    "                columns=[\"age\", \"probability_vector\", \"smoker_flag\"]),\n",
    "            \"cross_join_all_unique_values\" : False,\n",
    "            \"miss_probability\"             : 0,\n",
    "            \"anonymising_set\"              : \"random\"\n",
    "        },\n",
    "        \"smoker_flag\" : {\n",
    "            \"type\": \"continuous\",\n",
    "            \"precision\": \"float\",\n",
    "            \"distribution\": \"normal\",\n",
    "            \"distribution_parameters\": {\"dispersion\": 0, \"target_min\": 0, \"target_max\": 1},\n",
    "            \"miss_probability\": 0\n",
    "        },\n",
    "    },\n",
    "    \"constraints\"    : {\"allow_duplicates\":True, \"basic_constraints\":[], \"custom_constraints\":{}},\n",
    "    \"linked_columns\" : [],\n",
    "    \"derived_columns\": {}\n",
    "}"
   ]
  },
  {
   "cell_type": "code",
   "execution_count": 4,
   "id": "fb853d21",
   "metadata": {},
   "outputs": [],
   "source": [
    "exhibit_data = xbt.newExhibit(command=\"fromspec\", source=model_spec_dict, output=\"dataframe\")\n",
    "model_df = exhibit_data.generate()"
   ]
  },
  {
   "cell_type": "code",
   "execution_count": 5,
   "id": "50c57e71",
   "metadata": {},
   "outputs": [],
   "source": [
    "# let's take only the top slice of the normal distribution\n",
    "model_df[\"smoker_flag\"] = np.where(model_df[\"smoker_flag\"] > 0.7, 1, 0)"
   ]
  },
  {
   "cell_type": "code",
   "execution_count": 6,
   "id": "adf31c83",
   "metadata": {},
   "outputs": [],
   "source": [
    "# manually add a 1% chance of Male records between 0-9 to have a smoker\n",
    "target_idx = model_df.query(\"sex == 'Male' & age == '0-9'\").index\n",
    "model_df.loc[target_idx, \"smoker_flag\"] = np.where(np.random.random(size=len(target_idx)) < 0.01, 1, 0)"
   ]
  },
  {
   "cell_type": "code",
   "execution_count": 7,
   "id": "4efff9bd",
   "metadata": {
    "scrolled": false
   },
   "outputs": [
    {
     "data": {
      "text/plain": [
       "<matplotlib.legend.Legend at 0x21ba16034c0>"
      ]
     },
     "execution_count": 7,
     "metadata": {},
     "output_type": "execute_result"
    },
    {
     "data": {
      "image/png": "[encoded data removed]",
      "text/plain": [
       "<Figure size 1440x360 with 2 Axes>"
      ]
     },
     "metadata": {
      "needs_background": "light"
     },
     "output_type": "display_data"
    }
   ],
   "source": [
    "# confirm that our pattern is observable from frequencies\n",
    "data = model_df.groupby([\"sex\", \"age\"])[\"smoker_flag\"].value_counts().reset_index(name=\"count\")\n",
    "fig, ax = plt.subplots(nrows=1, ncols=2, figsize=(20, 5))\n",
    "\n",
    "sns.barplot(x=\"age\", \n",
    "            y=\"count\", \n",
    "            hue=\"smoker_flag\", \n",
    "            data=data.query(\"sex == 'Female'\"),\n",
    "            ax=ax[0]\n",
    ").set_title(\"Female\")\n",
    "ax[0].legend(loc='upper right')\n",
    "\n",
    "sns.barplot(x=\"age\", \n",
    "            y=\"count\", \n",
    "            hue=\"smoker_flag\", \n",
    "            data=data.query(\"sex == 'Male'\"),\n",
    "            ax=ax[1]\n",
    ").set_title(\"Male\")\n",
    "\n",
    "ax[1].legend(loc='upper right')"
   ]
  },
  {
   "cell_type": "markdown",
   "id": "7654fd82",
   "metadata": {},
   "source": [
    "#### Create a basic ML model trained on our model dataset\n",
    "We'll use the categorical Naive Bayes classifier for simplicity of predicting the smoker class."
   ]
  },
  {
   "cell_type": "code",
   "execution_count": 8,
   "id": "7c388a69",
   "metadata": {},
   "outputs": [],
   "source": [
    "# Convert smoker flag into categories\n",
    "model_df[\"smoker\"] = model_df[\"smoker_flag\"].map({0:\"non-smoker\", 1:\"smoker\"})"
   ]
  },
  {
   "cell_type": "code",
   "execution_count": 9,
   "id": "a30f6cbc",
   "metadata": {},
   "outputs": [
    {
     "data": {
      "text/html": [
       "<style>#sk-container-id-1 {color: black;background-color: white;}#sk-container-id-1 pre{padding: 0;}#sk-container-id-1 div.sk-toggleable {background-color: white;}#sk-container-id-1 label.sk-toggleable__label {cursor: pointer;display: block;width: 100%;margin-bottom: 0;padding: 0.3em;box-sizing: border-box;text-align: center;}#sk-container-id-1 label.sk-toggleable__label-arrow:before {content: \"▸\";float: left;margin-right: 0.25em;color: #696969;}#sk-container-id-1 label.sk-toggleable__label-arrow:hover:before {color: black;}#sk-container-id-1 div.sk-estimator:hover label.sk-toggleable__label-arrow:before {color: black;}#sk-container-id-1 div.sk-toggleable__content {max-height: 0;max-width: 0;overflow: hidden;text-align: left;background-color: #f0f8ff;}#sk-container-id-1 div.sk-toggleable__content pre {margin: 0.2em;color: black;border-radius: 0.25em;background-color: #f0f8ff;}#sk-container-id-1 input.sk-toggleable__control:checked~div.sk-toggleable__content {max-height: 200px;max-width: 100%;overflow: auto;}#sk-container-id-1 input.sk-toggleable__control:checked~label.sk-toggleable__label-arrow:before {content: \"▾\";}#sk-container-id-1 div.sk-estimator input.sk-toggleable__control:checked~label.sk-toggleable__label {background-color: #d4ebff;}#sk-container-id-1 div.sk-label input.sk-toggleable__control:checked~label.sk-toggleable__label {background-color: #d4ebff;}#sk-container-id-1 input.sk-hidden--visually {border: 0;clip: rect(1px 1px 1px 1px);clip: rect(1px, 1px, 1px, 1px);height: 1px;margin: -1px;overflow: hidden;padding: 0;position: absolute;width: 1px;}#sk-container-id-1 div.sk-estimator {font-family: monospace;background-color: #f0f8ff;border: 1px dotted black;border-radius: 0.25em;box-sizing: border-box;margin-bottom: 0.5em;}#sk-container-id-1 div.sk-estimator:hover {background-color: #d4ebff;}#sk-container-id-1 div.sk-parallel-item::after {content: \"\";width: 100%;border-bottom: 1px solid gray;flex-grow: 1;}#sk-container-id-1 div.sk-label:hover label.sk-toggleable__label {background-color: #d4ebff;}#sk-container-id-1 div.sk-serial::before {content: \"\";position: absolute;border-left: 1px solid gray;box-sizing: border-box;top: 0;bottom: 0;left: 50%;z-index: 0;}#sk-container-id-1 div.sk-serial {display: flex;flex-direction: column;align-items: center;background-color: white;padding-right: 0.2em;padding-left: 0.2em;position: relative;}#sk-container-id-1 div.sk-item {position: relative;z-index: 1;}#sk-container-id-1 div.sk-parallel {display: flex;align-items: stretch;justify-content: center;background-color: white;position: relative;}#sk-container-id-1 div.sk-item::before, #sk-container-id-1 div.sk-parallel-item::before {content: \"\";position: absolute;border-left: 1px solid gray;box-sizing: border-box;top: 0;bottom: 0;left: 50%;z-index: -1;}#sk-container-id-1 div.sk-parallel-item {display: flex;flex-direction: column;z-index: 1;position: relative;background-color: white;}#sk-container-id-1 div.sk-parallel-item:first-child::after {align-self: flex-end;width: 50%;}#sk-container-id-1 div.sk-parallel-item:last-child::after {align-self: flex-start;width: 50%;}#sk-container-id-1 div.sk-parallel-item:only-child::after {width: 0;}#sk-container-id-1 div.sk-dashed-wrapped {border: 1px dashed gray;margin: 0 0.4em 0.5em 0.4em;box-sizing: border-box;padding-bottom: 0.4em;background-color: white;}#sk-container-id-1 div.sk-label label {font-family: monospace;font-weight: bold;display: inline-block;line-height: 1.2em;}#sk-container-id-1 div.sk-label-container {text-align: center;}#sk-container-id-1 div.sk-container {/* jupyter's `normalize.less` sets `[hidden] { display: none; }` but bootstrap.min.css set `[hidden] { display: none !important; }` so we also need the `!important` here to be able to override the default hidden behavior on the sphinx rendered scikit-learn.org. See: https://github.com/scikit-learn/scikit-learn/issues/21755 */display: inline-block !important;position: relative;}#sk-container-id-1 div.sk-text-repr-fallback {display: none;}</style><div id=\"sk-container-id-1\" class=\"sk-top-container\"><div class=\"sk-text-repr-fallback\"><pre>CategoricalNB()</pre><b>In a Jupyter environment, please rerun this cell to show the HTML representation or trust the notebook. <br />On GitHub, the HTML representation is unable to render, please try loading this page with nbviewer.org.</b></div><div class=\"sk-container\" hidden><div class=\"sk-item\"><div class=\"sk-estimator sk-toggleable\"><input class=\"sk-toggleable__control sk-hidden--visually\" id=\"sk-estimator-id-1\" type=\"checkbox\" checked><label for=\"sk-estimator-id-1\" class=\"sk-toggleable__label sk-toggleable__label-arrow\">CategoricalNB</label><div class=\"sk-toggleable__content\"><pre>CategoricalNB()</pre></div></div></div></div></div>"
      ],
      "text/plain": [
       "CategoricalNB()"
      ]
     },
     "execution_count": 9,
     "metadata": {},
     "output_type": "execute_result"
    }
   ],
   "source": [
    "# Select data for modeling\n",
    "X=model_df[['sex', 'age']]\n",
    "y=model_df['smoker'].values\n",
    "\n",
    "# Encode categorical variables\n",
    "enc = OrdinalEncoder()\n",
    "X = enc.fit_transform(X)\n",
    "\n",
    "clf = CategoricalNB()\n",
    "clf.fit(X, y)"
   ]
  },
  {
   "cell_type": "markdown",
   "id": "ce0ab366",
   "metadata": {},
   "source": [
    "#### Create a class that will enable us to use the model in Exhibit\n",
    "The only requirement is that the model object has a method `apply_model`. Any parameters along with their values will be passed ot this function as keyword arguments."
   ]
  },
  {
   "cell_type": "code",
   "execution_count": 10,
   "id": "cfc104d6",
   "metadata": {},
   "outputs": [],
   "source": [
    "class ExhibitModel:\n",
    "    '''\n",
    "    Encapsulate the information about your model in the ExhibitModel class\n",
    "    '''\n",
    "    \n",
    "    def __init__(self, encoder, model, **kwargs):\n",
    "        '''\n",
    "        ExhibitModel is simply a convenient container for your model and associated objects.\n",
    "        Use class attributes to save whatever it is your model requires to make predictions.\n",
    "        '''\n",
    "        \n",
    "        self.model = model\n",
    "        self.encoder = encoder\n",
    "        \n",
    "    def apply_model(self, input_df, **kwargs):\n",
    "        '''\n",
    "        Please follow the function signature to ensure your model is understood by Exhibit.\n",
    "        Any hyperparameters that you specify in the specification will be passed to this\n",
    "        function as keyword arguments. Make sure the function returns a data frame.\n",
    "        '''\n",
    "        \n",
    "        sample = kwargs.get(\"sample\", False)\n",
    "        seed = kwargs.get(\"seed\", 0)\n",
    "        X = self.encoder.fit_transform(input_df[[\"sex\", \"age\"]])\n",
    "        \n",
    "        if sample:\n",
    "            probas = self.model.predict_proba(X)\n",
    "            rng = np.random.default_rng(seed=seed)\n",
    "            # when the model is certain of a class, we ensure that class is picked\n",
    "            # rather than leaving it to a near certain chance.\n",
    "            probas = [(1, 0) if x[0] > 0.995 else x for x in probas]       \n",
    "            Y = [rng.choice(a=[\"non_smoker\", \"smoker\"], p=probas[i]) for i in range(len(probas))]\n",
    "        else:\n",
    "            Y = self.model.predict(X)\n",
    "        \n",
    "        input_df[\"smoker\"] = Y\n",
    "        \n",
    "        return input_df"
   ]
  },
  {
   "cell_type": "code",
   "execution_count": 11,
   "id": "aa6a63e2",
   "metadata": {},
   "outputs": [],
   "source": [
    "model = ExhibitModel(encoder=enc, model=clf)"
   ]
  },
  {
   "cell_type": "markdown",
   "id": "001e20d9",
   "metadata": {},
   "source": [
    "#### Pickle the model object using `dill`"
   ]
  },
  {
   "cell_type": "code",
   "execution_count": 12,
   "id": "f0c247d8",
   "metadata": {},
   "outputs": [],
   "source": [
    "with open(\"../exhibit/models/smoker_model.pickle\", \"wb\") as f:\n",
    "    dill.dump(model, f)"
   ]
  },
  {
   "cell_type": "markdown",
   "id": "69b3db49",
   "metadata": {},
   "source": [
    "#### Apply the model to a new dataset"
   ]
  },
  {
   "cell_type": "code",
   "execution_count": 13,
   "id": "5c883bdc",
   "metadata": {},
   "outputs": [],
   "source": [
    "with open(\"../exhibit/models/smoker_model.pickle\", \"rb\") as f:\n",
    "    smoker_model = dill.load(f)    "
   ]
  },
  {
   "cell_type": "code",
   "execution_count": 14,
   "id": "c4ebe3e2",
   "metadata": {},
   "outputs": [],
   "source": [
    "df = pd.read_csv(\"../exhibit/sample/_data/inpatients.csv\")"
   ]
  },
  {
   "cell_type": "code",
   "execution_count": 15,
   "id": "ff077909",
   "metadata": {},
   "outputs": [
    {
     "data": {
      "text/html": [
       "<div>\n",
       "<style scoped>\n",
       "    .dataframe tbody tr th:only-of-type {\n",
       "        vertical-align: middle;\n",
       "    }\n",
       "\n",
       "    .dataframe tbody tr th {\n",
       "        vertical-align: top;\n",
       "    }\n",
       "\n",
       "    .dataframe thead th {\n",
       "        text-align: right;\n",
       "    }\n",
       "</style>\n",
       "<table border=\"1\" class=\"dataframe\">\n",
       "  <thead>\n",
       "    <tr style=\"text-align: right;\">\n",
       "      <th></th>\n",
       "      <th>quarter_date</th>\n",
       "      <th>hb_code</th>\n",
       "      <th>hb_name</th>\n",
       "      <th>loc_code</th>\n",
       "      <th>loc_name</th>\n",
       "      <th>measure</th>\n",
       "      <th>stays</th>\n",
       "      <th>los</th>\n",
       "      <th>avlos</th>\n",
       "      <th>sex</th>\n",
       "      <th>age</th>\n",
       "    </tr>\n",
       "  </thead>\n",
       "  <tbody>\n",
       "    <tr>\n",
       "      <th>0</th>\n",
       "      <td>2018-12-31</td>\n",
       "      <td>S08000015</td>\n",
       "      <td>NHS Ayrshire &amp; Arran</td>\n",
       "      <td>A101H</td>\n",
       "      <td>Arran War Memorial Hospital</td>\n",
       "      <td>Elective Inpatients</td>\n",
       "      <td>0</td>\n",
       "      <td>0</td>\n",
       "      <td>NaN</td>\n",
       "      <td>Female</td>\n",
       "      <td>20-29</td>\n",
       "    </tr>\n",
       "    <tr>\n",
       "      <th>1</th>\n",
       "      <td>2018-03-31</td>\n",
       "      <td>S08000015</td>\n",
       "      <td>NHS Ayrshire &amp; Arran</td>\n",
       "      <td>S08000015</td>\n",
       "      <td>NHS Ayrshire &amp; Arran</td>\n",
       "      <td>Elective Inpatients</td>\n",
       "      <td>20</td>\n",
       "      <td>27</td>\n",
       "      <td>1.35</td>\n",
       "      <td>Female</td>\n",
       "      <td>0-9</td>\n",
       "    </tr>\n",
       "    <tr>\n",
       "      <th>2</th>\n",
       "      <td>2018-06-30</td>\n",
       "      <td>S08000015</td>\n",
       "      <td>NHS Ayrshire &amp; Arran</td>\n",
       "      <td>S08000015</td>\n",
       "      <td>NHS Ayrshire &amp; Arran</td>\n",
       "      <td>Elective Inpatients</td>\n",
       "      <td>28</td>\n",
       "      <td>35</td>\n",
       "      <td>1.25</td>\n",
       "      <td>Female</td>\n",
       "      <td>0-9</td>\n",
       "    </tr>\n",
       "    <tr>\n",
       "      <th>3</th>\n",
       "      <td>2018-09-30</td>\n",
       "      <td>S08000015</td>\n",
       "      <td>NHS Ayrshire &amp; Arran</td>\n",
       "      <td>S08000015</td>\n",
       "      <td>NHS Ayrshire &amp; Arran</td>\n",
       "      <td>Elective Inpatients</td>\n",
       "      <td>20</td>\n",
       "      <td>21</td>\n",
       "      <td>1.05</td>\n",
       "      <td>Female</td>\n",
       "      <td>0-9</td>\n",
       "    </tr>\n",
       "    <tr>\n",
       "      <th>4</th>\n",
       "      <td>2018-12-31</td>\n",
       "      <td>S08000015</td>\n",
       "      <td>NHS Ayrshire &amp; Arran</td>\n",
       "      <td>S08000015</td>\n",
       "      <td>NHS Ayrshire &amp; Arran</td>\n",
       "      <td>Elective Inpatients</td>\n",
       "      <td>20</td>\n",
       "      <td>22</td>\n",
       "      <td>1.10</td>\n",
       "      <td>Female</td>\n",
       "      <td>0-9</td>\n",
       "    </tr>\n",
       "  </tbody>\n",
       "</table>\n",
       "</div>"
      ],
      "text/plain": [
       "  quarter_date    hb_code               hb_name   loc_code  \\\n",
       "0   2018-12-31  S08000015  NHS Ayrshire & Arran      A101H   \n",
       "1   2018-03-31  S08000015  NHS Ayrshire & Arran  S08000015   \n",
       "2   2018-06-30  S08000015  NHS Ayrshire & Arran  S08000015   \n",
       "3   2018-09-30  S08000015  NHS Ayrshire & Arran  S08000015   \n",
       "4   2018-12-31  S08000015  NHS Ayrshire & Arran  S08000015   \n",
       "\n",
       "                      loc_name              measure  stays  los  avlos  \\\n",
       "0  Arran War Memorial Hospital  Elective Inpatients      0    0    NaN   \n",
       "1         NHS Ayrshire & Arran  Elective Inpatients     20   27   1.35   \n",
       "2         NHS Ayrshire & Arran  Elective Inpatients     28   35   1.25   \n",
       "3         NHS Ayrshire & Arran  Elective Inpatients     20   21   1.05   \n",
       "4         NHS Ayrshire & Arran  Elective Inpatients     20   22   1.10   \n",
       "\n",
       "      sex    age  \n",
       "0  Female  20-29  \n",
       "1  Female    0-9  \n",
       "2  Female    0-9  \n",
       "3  Female    0-9  \n",
       "4  Female    0-9  "
      ]
     },
     "execution_count": 15,
     "metadata": {},
     "output_type": "execute_result"
    }
   ],
   "source": [
    "df.head()"
   ]
  },
  {
   "cell_type": "code",
   "execution_count": 16,
   "id": "11b6f247",
   "metadata": {
    "scrolled": true
   },
   "outputs": [
    {
     "data": {
      "text/plain": [
       "<matplotlib.legend.Legend at 0x21ba37ebfd0>"
      ]
     },
     "execution_count": 16,
     "metadata": {},
     "output_type": "execute_result"
    },
    {
     "data": {
      "image/png": "[encoded data removed]",
      "text/plain": [
       "<Figure size 1440x360 with 2 Axes>"
      ]
     },
     "metadata": {
      "needs_background": "light"
     },
     "output_type": "display_data"
    }
   ],
   "source": [
    "smoker_data = (\n",
    "    smoker_model.apply_model(df, sample=True).groupby([\"sex\", \"age\"])[\"smoker\"].value_counts().reset_index(name=\"count\"))\n",
    "\n",
    "fig, ax = plt.subplots(nrows=1, ncols=2, figsize=(20, 5))\n",
    "\n",
    "sns.barplot(x=\"age\", \n",
    "            y=\"count\", \n",
    "            hue=\"smoker\", \n",
    "            data=smoker_data.query(\"sex == 'Female'\"),\n",
    "            ax=ax[0]\n",
    ").set_title(\"Female\")\n",
    "ax[0].legend(loc='upper right')\n",
    "\n",
    "sns.barplot(x=\"age\", \n",
    "            y=\"count\", \n",
    "            hue=\"smoker\", \n",
    "            data=smoker_data.query(\"sex == 'Male'\"),\n",
    "            ax=ax[1]\n",
    ").set_title(\"Male\")\n",
    "\n",
    "ax[1].legend(loc='upper right')"
   ]
  }
 ],
 "metadata": {
  "kernelspec": {
   "display_name": "Python 3 (ipykernel)",
   "language": "python",
   "name": "python3"
  },
  "language_info": {
   "codemirror_mode": {
    "name": "ipython",
    "version": 3
   },
   "file_extension": ".py",
   "mimetype": "text/x-python",
   "name": "python",
   "nbconvert_exporter": "python",
   "pygments_lexer": "ipython3",
   "version": "3.8.12"
  }
 },
 "nbformat": 4,
 "nbformat_minor": 5
}
