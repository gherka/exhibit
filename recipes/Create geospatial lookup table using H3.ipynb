{
 "cells": [
  {
   "cell_type": "code",
   "execution_count": 1,
   "id": "2008b1d8",
   "metadata": {},
   "outputs": [],
   "source": [
    "import h3\n",
    "import geopandas as gpd\n",
    "\n",
    "from urllib.request import urlopen\n",
    "from shapely.geometry import MultiPolygon, Polygon"
   ]
  },
  {
   "cell_type": "markdown",
   "id": "4c3814a6",
   "metadata": {},
   "source": [
    "Exhibit uses [H3](https://eng.uber.com/h3/) hexes as a base unit in the generation of geospatial data from which individual points and their latitude / longitude pairs are sampled. This notebook walks through the steps of transforming geospatial data from the shapefile (or geojson) format to a list of H3 hexes. Once you have the H3 list, you can insert it into Exhibit's `anon.db` SQLite database and use the table name as reference in the specification.\n",
    "\n",
    "For this scenario, we will generate H3 hexes from a shapefile of Scotland's DataZones and augment the lookup with a rough population estimate so that our generated data follows the population spread."
   ]
  },
  {
   "cell_type": "code",
   "execution_count": 2,
   "id": "f0d7f303",
   "metadata": {},
   "outputs": [],
   "source": [
    "dz_shapefile = urlopen(\"https://maps.gov.scot/ATOM/shapefiles/SG_DataZoneBdry_2011.zip\")"
   ]
  },
  {
   "cell_type": "code",
   "execution_count": 3,
   "id": "e19064b2",
   "metadata": {},
   "outputs": [],
   "source": [
    "dz_df = gpd.read_file(dz_shapefile).set_crs('EPSG:27700', allow_override=True)"
   ]
  },
  {
   "cell_type": "code",
   "execution_count": 4,
   "id": "16a44e18",
   "metadata": {},
   "outputs": [
    {
     "data": {
      "text/html": [
       "<div>\n",
       "<style scoped>\n",
       "    .dataframe tbody tr th:only-of-type {\n",
       "        vertical-align: middle;\n",
       "    }\n",
       "\n",
       "    .dataframe tbody tr th {\n",
       "        vertical-align: top;\n",
       "    }\n",
       "\n",
       "    .dataframe thead th {\n",
       "        text-align: right;\n",
       "    }\n",
       "</style>\n",
       "<table border=\"1\" class=\"dataframe\">\n",
       "  <thead>\n",
       "    <tr style=\"text-align: right;\">\n",
       "      <th></th>\n",
       "      <th>DataZone</th>\n",
       "      <th>Name</th>\n",
       "      <th>TotPop2011</th>\n",
       "      <th>ResPop2011</th>\n",
       "      <th>HHCnt2011</th>\n",
       "      <th>StdAreaHa</th>\n",
       "      <th>StdAreaKm2</th>\n",
       "      <th>Shape_Leng</th>\n",
       "      <th>Shape_Area</th>\n",
       "      <th>geometry</th>\n",
       "    </tr>\n",
       "  </thead>\n",
       "  <tbody>\n",
       "    <tr>\n",
       "      <th>0</th>\n",
       "      <td>S01006506</td>\n",
       "      <td>Culter - 01</td>\n",
       "      <td>872</td>\n",
       "      <td>852</td>\n",
       "      <td>424</td>\n",
       "      <td>438.880218</td>\n",
       "      <td>4.388801</td>\n",
       "      <td>11801.872345</td>\n",
       "      <td>4.388802e+06</td>\n",
       "      <td>POLYGON ((383285.265 800510.607, 383348.492 80...</td>\n",
       "    </tr>\n",
       "    <tr>\n",
       "      <th>1</th>\n",
       "      <td>S01006507</td>\n",
       "      <td>Culter - 02</td>\n",
       "      <td>836</td>\n",
       "      <td>836</td>\n",
       "      <td>364</td>\n",
       "      <td>22.349739</td>\n",
       "      <td>0.223498</td>\n",
       "      <td>2900.406362</td>\n",
       "      <td>2.217468e+05</td>\n",
       "      <td>POLYGON ((383527.919 801536.276, 383541.089 80...</td>\n",
       "    </tr>\n",
       "    <tr>\n",
       "      <th>2</th>\n",
       "      <td>S01006508</td>\n",
       "      <td>Culter - 03</td>\n",
       "      <td>643</td>\n",
       "      <td>643</td>\n",
       "      <td>340</td>\n",
       "      <td>27.019476</td>\n",
       "      <td>0.270194</td>\n",
       "      <td>3468.761949</td>\n",
       "      <td>2.701948e+05</td>\n",
       "      <td>POLYGON ((383473.000 801227.000, 383597.000 80...</td>\n",
       "    </tr>\n",
       "    <tr>\n",
       "      <th>3</th>\n",
       "      <td>S01006509</td>\n",
       "      <td>Culter - 04</td>\n",
       "      <td>580</td>\n",
       "      <td>580</td>\n",
       "      <td>274</td>\n",
       "      <td>9.625426</td>\n",
       "      <td>0.096254</td>\n",
       "      <td>1647.461389</td>\n",
       "      <td>9.625426e+04</td>\n",
       "      <td>POLYGON ((383976.659 801182.579, 383984.102 80...</td>\n",
       "    </tr>\n",
       "    <tr>\n",
       "      <th>4</th>\n",
       "      <td>S01006510</td>\n",
       "      <td>Culter - 05</td>\n",
       "      <td>644</td>\n",
       "      <td>577</td>\n",
       "      <td>256</td>\n",
       "      <td>18.007657</td>\n",
       "      <td>0.180076</td>\n",
       "      <td>3026.111412</td>\n",
       "      <td>1.800766e+05</td>\n",
       "      <td>POLYGON ((384339.000 801211.000, 384316.510 80...</td>\n",
       "    </tr>\n",
       "  </tbody>\n",
       "</table>\n",
       "</div>"
      ],
      "text/plain": [
       "    DataZone         Name  TotPop2011  ResPop2011  HHCnt2011   StdAreaHa  \\\n",
       "0  S01006506  Culter - 01         872         852        424  438.880218   \n",
       "1  S01006507  Culter - 02         836         836        364   22.349739   \n",
       "2  S01006508  Culter - 03         643         643        340   27.019476   \n",
       "3  S01006509  Culter - 04         580         580        274    9.625426   \n",
       "4  S01006510  Culter - 05         644         577        256   18.007657   \n",
       "\n",
       "   StdAreaKm2    Shape_Leng    Shape_Area  \\\n",
       "0    4.388801  11801.872345  4.388802e+06   \n",
       "1    0.223498   2900.406362  2.217468e+05   \n",
       "2    0.270194   3468.761949  2.701948e+05   \n",
       "3    0.096254   1647.461389  9.625426e+04   \n",
       "4    0.180076   3026.111412  1.800766e+05   \n",
       "\n",
       "                                            geometry  \n",
       "0  POLYGON ((383285.265 800510.607, 383348.492 80...  \n",
       "1  POLYGON ((383527.919 801536.276, 383541.089 80...  \n",
       "2  POLYGON ((383473.000 801227.000, 383597.000 80...  \n",
       "3  POLYGON ((383976.659 801182.579, 383984.102 80...  \n",
       "4  POLYGON ((384339.000 801211.000, 384316.510 80...  "
      ]
     },
     "execution_count": 4,
     "metadata": {},
     "output_type": "execute_result"
    }
   ],
   "source": [
    "dz_df.head()"
   ]
  },
  {
   "cell_type": "code",
   "execution_count": 5,
   "id": "c5d53b36",
   "metadata": {},
   "outputs": [],
   "source": [
    "# reproject the original shapefile geometry to WGS84 which is what H3 uses\n",
    "dz_df = dz_df.to_crs(\"EPSG:4326\")"
   ]
  },
  {
   "cell_type": "markdown",
   "id": "c740bac8",
   "metadata": {},
   "source": [
    "H3 hexes come at different resolutions: from 0 to 15. You can see the breakdown of what each resolution means in terms of the average hexagon area and average hexagon edge length [here](https://h3geo.org/docs/core-library/restable/). For our purposes resolution 8 is sufficient."
   ]
  },
  {
   "cell_type": "code",
   "execution_count": 6,
   "id": "14943f50",
   "metadata": {},
   "outputs": [],
   "source": [
    "def process_polygon(poly, res=8):\n",
    "    '''\n",
    "    For convenience, we're picking up datazone-specific columns like\n",
    "    datazone code and its population from the outer scope of the function.\n",
    "    '''\n",
    "    \n",
    "    temp_result = []\n",
    "    \n",
    "    h3s = h3.polyfill_geojson(poly.__geo_interface__, res)\n",
    "\n",
    "    for h in h3s:\n",
    "\n",
    "        temp_result.append((\n",
    "            dz,\n",
    "            pop,\n",
    "            h,\n",
    "            Polygon(h3.h3_to_geo_boundary(h, True))\n",
    "        ))\n",
    "    \n",
    "    return temp_result"
   ]
  },
  {
   "cell_type": "code",
   "execution_count": 7,
   "id": "ca5dd886",
   "metadata": {},
   "outputs": [],
   "source": [
    "result = []\n",
    "\n",
    "for _, dz, pop, geom in dz_df[[\"DataZone\", \"TotPop2011\", \"geometry\"]].itertuples():\n",
    "    \n",
    "    if isinstance(geom, Polygon):\n",
    "    \n",
    "        result.extend(process_polygon(geom, res=8))\n",
    "        \n",
    "    # some datazones are MultiPolygons instead of simple Polygons!\n",
    "    elif isinstance(geom, MultiPolygon):\n",
    "\n",
    "        for poly in geom.geoms:\n",
    "            \n",
    "            result.extend(process_polygon(poly, res=8))"
   ]
  },
  {
   "cell_type": "code",
   "execution_count": 8,
   "id": "f63f3730",
   "metadata": {},
   "outputs": [],
   "source": [
    "h3_df = gpd.GeoDataFrame(result, columns=[\"datazone\", \"dz_pop\", \"h3\", \"geometry\"], crs=\"EPSG:4326\")"
   ]
  },
  {
   "cell_type": "code",
   "execution_count": 9,
   "id": "1ac127e7",
   "metadata": {},
   "outputs": [
    {
     "data": {
      "text/html": [
       "<div>\n",
       "<style scoped>\n",
       "    .dataframe tbody tr th:only-of-type {\n",
       "        vertical-align: middle;\n",
       "    }\n",
       "\n",
       "    .dataframe tbody tr th {\n",
       "        vertical-align: top;\n",
       "    }\n",
       "\n",
       "    .dataframe thead th {\n",
       "        text-align: right;\n",
       "    }\n",
       "</style>\n",
       "<table border=\"1\" class=\"dataframe\">\n",
       "  <thead>\n",
       "    <tr style=\"text-align: right;\">\n",
       "      <th></th>\n",
       "      <th>datazone</th>\n",
       "      <th>dz_pop</th>\n",
       "      <th>h3</th>\n",
       "      <th>geometry</th>\n",
       "    </tr>\n",
       "  </thead>\n",
       "  <tbody>\n",
       "    <tr>\n",
       "      <th>0</th>\n",
       "      <td>S01006506</td>\n",
       "      <td>872</td>\n",
       "      <td>8819761443fffff</td>\n",
       "      <td>POLYGON ((-2.26118 57.09362, -2.26871 57.09252...</td>\n",
       "    </tr>\n",
       "    <tr>\n",
       "      <th>1</th>\n",
       "      <td>S01006506</td>\n",
       "      <td>872</td>\n",
       "      <td>8819761409fffff</td>\n",
       "      <td>POLYGON ((-2.26990 57.08828, -2.27743 57.08717...</td>\n",
       "    </tr>\n",
       "    <tr>\n",
       "      <th>2</th>\n",
       "      <td>S01006506</td>\n",
       "      <td>872</td>\n",
       "      <td>8819761441fffff</td>\n",
       "      <td>POLYGON ((-2.26632 57.10100, -2.27385 57.09990...</td>\n",
       "    </tr>\n",
       "    <tr>\n",
       "      <th>3</th>\n",
       "      <td>S01006506</td>\n",
       "      <td>872</td>\n",
       "      <td>881976140dfffff</td>\n",
       "      <td>POLYGON ((-2.28377 57.09031, -2.29130 57.08920...</td>\n",
       "    </tr>\n",
       "    <tr>\n",
       "      <th>4</th>\n",
       "      <td>S01006506</td>\n",
       "      <td>872</td>\n",
       "      <td>8819761429fffff</td>\n",
       "      <td>POLYGON ((-2.30636 57.08699, -2.31390 57.08588...</td>\n",
       "    </tr>\n",
       "  </tbody>\n",
       "</table>\n",
       "</div>"
      ],
      "text/plain": [
       "    datazone  dz_pop               h3  \\\n",
       "0  S01006506     872  8819761443fffff   \n",
       "1  S01006506     872  8819761409fffff   \n",
       "2  S01006506     872  8819761441fffff   \n",
       "3  S01006506     872  881976140dfffff   \n",
       "4  S01006506     872  8819761429fffff   \n",
       "\n",
       "                                            geometry  \n",
       "0  POLYGON ((-2.26118 57.09362, -2.26871 57.09252...  \n",
       "1  POLYGON ((-2.26990 57.08828, -2.27743 57.08717...  \n",
       "2  POLYGON ((-2.26632 57.10100, -2.27385 57.09990...  \n",
       "3  POLYGON ((-2.28377 57.09031, -2.29130 57.08920...  \n",
       "4  POLYGON ((-2.30636 57.08699, -2.31390 57.08588...  "
      ]
     },
     "execution_count": 9,
     "metadata": {},
     "output_type": "execute_result"
    }
   ],
   "source": [
    "h3_df.head()"
   ]
  },
  {
   "cell_type": "code",
   "execution_count": 10,
   "id": "db19222d",
   "metadata": {},
   "outputs": [],
   "source": [
    "# create a population figure for each hex by dividing the DZ population by the count of constituent hexes\n",
    "# this is a very rough approximation of how the area of a DZ is related to the its population: a city DZ can\n",
    "# be a single hex with ~1000 population, but a rural DZ with ~1000 population might be made up of 4 hexes.\n",
    "h3_df[\"h3_pop\"] = h3_df.groupby(\"datazone\")[\"dz_pop\"].transform(lambda x: x / len(x))"
   ]
  },
  {
   "cell_type": "markdown",
   "id": "8168c7f9",
   "metadata": {},
   "source": [
    "To see the result of your transformation, you can export the dataframe to GeoJSON and use your favourite mapping tool like Tableau, QGIS or ArcPro to visualise the hexagons. You can also use a free web-based tool [kepler.gl](https://kepler.gl/)\n",
    "\n",
    "`h3_df.to_file(\"h3.geojson\", driver=\"GeoJSON\", index=False)`"
   ]
  },
  {
   "cell_type": "markdown",
   "id": "0ac86346",
   "metadata": {},
   "source": [
    "In order for Exhibit to properly recognize your lookup table, it **must** have a column called `h3` with H3 ids. If you would like to weight the samples (so that sampled points reflect highly populated areas, for example), please ensure you include the appropriate weights column together with the `h3` column and reference it in the specification. By default, the distribution is set to uniform, but by specifying the weights column name, you can easily change that.\n",
    "\n",
    "To insert the h3 lookup table into `anon.db` you can use the `db_util.py` provided in the `exhibit/db/` folder. Once you've exported your `h3_df` to a `.csv` file called, for example, `geo_h3_datazones.csv`, all you need to do is type the following in the terminal: `python db_util.py --insert geo_h3_datazones.csv` assuming your `csv` file is in the same folder as `db_util.py`."
   ]
  }
 ],
 "metadata": {
  "kernelspec": {
   "display_name": "Python 3 (ipykernel)",
   "language": "python",
   "name": "python3"
  },
  "language_info": {
   "codemirror_mode": {
    "name": "ipython",
    "version": 3
   },
   "file_extension": ".py",
   "mimetype": "text/x-python",
   "name": "python",
   "nbconvert_exporter": "python",
   "pygments_lexer": "ipython3",
   "version": "3.9.12"
  }
 },
 "nbformat": 4,
 "nbformat_minor": 5
}
