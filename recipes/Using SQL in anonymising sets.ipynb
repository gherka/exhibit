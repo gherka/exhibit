{
 "cells": [
  {
   "cell_type": "code",
   "execution_count": 1,
   "id": "52670ba0-98b2-45c8-8832-95daa561bcdb",
   "metadata": {},
   "outputs": [],
   "source": [
    "import pandas as pd\n",
    "from exhibit import exhibit as xbt\n",
    "from exhibit.core.spec import Spec, UUIDColumn, CategoricalColumn, NumericalColumn, DateColumn\n",
    "\n",
    "from exhibit.db import db_util"
   ]
  },
  {
   "cell_type": "markdown",
   "id": "aaa517da-1bd2-4102-ae54-32467a2bcf36",
   "metadata": {},
   "source": [
    "### Using external tables to generate conditional categorical and date values\n",
    "You can write SQL statements in the `anonymising_set` field to define the set of values that will be used for this column. SQL has to start with `SELECT` and must include fully qualified join keys and the target column aliased to the column name. That way, Exhibit will know how to join back the values from the Exhibit database. You can mix external columns with already generated columns to have complete flexibility in determining inter-column relationships. Please note that the DB bundled with Exhibit is using the SQLite dialect so adjust your SQL if using a different dialect."
   ]
  },
  {
   "cell_type": "markdown",
   "id": "ad98a4a7-46be-4cc8-a07b-8b1130fc73a3",
   "metadata": {},
   "source": [
    "#### Conditional categorical columns"
   ]
  },
  {
   "cell_type": "code",
   "execution_count": 2,
   "id": "2f9ec38e-ed63-4ff7-b330-1a7fc7ead4de",
   "metadata": {},
   "outputs": [
    {
     "name": "stdout",
     "output_type": "stream",
     "text": [
      "Successfully inserted a new table temp_linked\n"
     ]
    }
   ],
   "source": [
    "# Here, we define a list of conditions that are gender-specific.\n",
    "# If you don't include the probabilities for a condition in the specification, the probabilities will be taken from the table.\n",
    "linked_data = pd.DataFrame(data={\n",
    "    \"gender\"   : [\"M\", \"M\", \"M\", \"F\", \"F\", \"F\"],\n",
    "    \"condition\": [\"A\", \"B\", \"C\", \"C\", \"D\", \"E\"]\n",
    "})\n",
    "\n",
    "# We'll insert this conditonal table into the Exhibit DB, but you can use any of the existing tables if using your own DB\n",
    "db_util.insert_table(linked_data, \"temp_linked\")"
   ]
  },
  {
   "cell_type": "code",
   "execution_count": 3,
   "id": "99d9a1e8-7777-46c0-8986-76d3f2275226",
   "metadata": {},
   "outputs": [],
   "source": [
    "spec = Spec()\n",
    "spec_dict = spec.generate()\n",
    "\n",
    "spec_dict[\"metadata\"][\"number_of_rows\"] = 100\n",
    "spec_dict[\"metadata\"][\"categorical_columns\"] = [\"gender\", \"condition\"]\n",
    "spec_dict[\"metadata\"][\"numerical_columns\"] = [\"count\"]\n",
    "spec_dict[\"metadata\"][\"id\"] = \"main\"\n",
    "\n",
    "# You can specify custom probabilities and weights for numerical columns,\n",
    "# just like you would for a standard categorical column\n",
    "condition_data = pd.DataFrame(data={\n",
    "    \"condition\"          : [\"A\", \"B\", \"C\", \"D\", \"E\", \"Missing Data\"],\n",
    "    \"probability_vector\" : [0.1, 0.1, 0.5, 0.1, 0.2, 0.0],\n",
    "    \"count\"              : [0.1, 0.1, 0.1, 0.1, 0.6, 0.0],\n",
    "})\n",
    "\n",
    "# Note that in order to reference the gender column that is added to the spec before condition, we \n",
    "# use temp_main table name, which references the id from the metadata section of the spec.\n",
    "# All non-aliased columns will be used as join keys.\n",
    "condition_sql = \"\"\"\n",
    "SELECT temp_main.gender, temp_linked.condition as condition\n",
    "FROM temp_main JOIN temp_linked ON temp_main.gender = temp_linked.gender\n",
    "\"\"\"\n",
    "\n",
    "gender_data = pd.DataFrame(data={\n",
    "    \"gender\" : [\"M\", \"F\", \"Missing Data\"],\n",
    "    \"probability_vector\" : [0.5, 0.5, 0],\n",
    "})\n",
    "\n",
    "\n",
    "spec_dict[\"columns\"][\"gender\"]    = CategoricalColumn(\"gender\", uniques=2, original_values=gender_data, anon_set=\"random\")\n",
    "spec_dict[\"columns\"][\"condition\"] = CategoricalColumn(\"condition\", uniques=5, original_values=condition_data, anon_set=condition_sql)\n",
    "spec_dict[\"columns\"][\"count\"]     = NumericalColumn(distribution=\"weighted_uniform\", distribution_parameters={\"target_sum\": 50_000, \"dispersion\":0.2})\n",
    "\n",
    "exhibit_data = xbt.Exhibit(command=\"fromspec\", source=spec_dict, output=\"dataframe\")\n",
    "anon_df = exhibit_data.generate()"
   ]
  },
  {
   "cell_type": "code",
   "execution_count": 4,
   "id": "e003b47e-3736-489d-87f5-087dcc37e324",
   "metadata": {},
   "outputs": [
    {
     "data": {
      "text/html": [
       "<div>\n",
       "<style scoped>\n",
       "    .dataframe tbody tr th:only-of-type {\n",
       "        vertical-align: middle;\n",
       "    }\n",
       "\n",
       "    .dataframe tbody tr th {\n",
       "        vertical-align: top;\n",
       "    }\n",
       "\n",
       "    .dataframe thead th {\n",
       "        text-align: right;\n",
       "    }\n",
       "</style>\n",
       "<table border=\"1\" class=\"dataframe\">\n",
       "  <thead>\n",
       "    <tr style=\"text-align: right;\">\n",
       "      <th></th>\n",
       "      <th>gender</th>\n",
       "      <th>condition</th>\n",
       "      <th>count</th>\n",
       "    </tr>\n",
       "  </thead>\n",
       "  <tbody>\n",
       "    <tr>\n",
       "      <th>0</th>\n",
       "      <td>F</td>\n",
       "      <td>C</td>\n",
       "      <td>265</td>\n",
       "    </tr>\n",
       "    <tr>\n",
       "      <th>1</th>\n",
       "      <td>M</td>\n",
       "      <td>C</td>\n",
       "      <td>250</td>\n",
       "    </tr>\n",
       "    <tr>\n",
       "      <th>2</th>\n",
       "      <td>M</td>\n",
       "      <td>A</td>\n",
       "      <td>305</td>\n",
       "    </tr>\n",
       "    <tr>\n",
       "      <th>3</th>\n",
       "      <td>F</td>\n",
       "      <td>C</td>\n",
       "      <td>250</td>\n",
       "    </tr>\n",
       "    <tr>\n",
       "      <th>4</th>\n",
       "      <td>F</td>\n",
       "      <td>E</td>\n",
       "      <td>1761</td>\n",
       "    </tr>\n",
       "  </tbody>\n",
       "</table>\n",
       "</div>"
      ],
      "text/plain": [
       "  gender condition  count\n",
       "0      F         C    265\n",
       "1      M         C    250\n",
       "2      M         A    305\n",
       "3      F         C    250\n",
       "4      F         E   1761"
      ]
     },
     "execution_count": 4,
     "metadata": {},
     "output_type": "execute_result"
    }
   ],
   "source": [
    "anon_df.head()"
   ]
  },
  {
   "cell_type": "code",
   "execution_count": 5,
   "id": "88465440-12d4-40a4-b105-1ae9249a834d",
   "metadata": {},
   "outputs": [
    {
     "name": "stdout",
     "output_type": "stream",
     "text": [
      "Successfully deleted 2 tables\n"
     ]
    }
   ],
   "source": [
    "# clean up the temp_tables\n",
    "db_util.purge_temp_tables()"
   ]
  },
  {
   "cell_type": "markdown",
   "id": "ce15e472-846e-4c2a-9e66-49007f5f0fca",
   "metadata": {},
   "source": [
    "#### Conditional date columns\n",
    "Exhibit DB includes a dates column that has a full range of dates at a day level between `01/01/1900` and `01/01/2100`. These can be used to generate conditional dates, such as dates of death for each patient given the randomly generated date of birth."
   ]
  },
  {
   "cell_type": "code",
   "execution_count": 6,
   "id": "ded05c55-f297-428e-bf0e-4bf2eb9b7162",
   "metadata": {},
   "outputs": [],
   "source": [
    "spec = Spec()\n",
    "spec_dict = spec.generate()\n",
    "\n",
    "spec_dict[\"metadata\"][\"number_of_rows\"] = 100\n",
    "spec_dict[\"metadata\"][\"uuid_columns\"] = [\"patient\"]\n",
    "spec_dict[\"metadata\"][\"date_columns\"] = [\"date_of_birth\", \"date_of_death\"]\n",
    "spec_dict[\"metadata\"][\"id\"] = \"main\"\n",
    "\n",
    "# Note that because for each patient the range of possible dates to pick is quite large, the generation will take longer than\n",
    "# if you were using a basic constraint to ensure one date (or numerical value) is always greater than another. The SQL approach,\n",
    "# however, is much more flexible and results in a more realistic-looking dataset.\n",
    "date_sql = \"\"\"\n",
    "SELECT temp_main.patient, dates.date as date_of_death\n",
    "FROM temp_main JOIN dates\n",
    "WHERE dates.date >= temp_main.date_of_birth AND dates.date < '2023-01-01'\n",
    "\"\"\"\n",
    "\n",
    "# Note that we're using pseudo_chi here as identifier - the numbers are randomised and the month is set to 13 to avoid accidental collisions\n",
    "spec_dict[\"columns\"][\"patient\"]       = UUIDColumn(uuid_seed=0, anon_set=\"pseudo_chi\")\n",
    "spec_dict[\"columns\"][\"date_of_birth\"] = DateColumn(\"date_of_birth\", uniques=80, from_date=\"1980-01-01\", to_date=\"2023-01-01\", cross_join=False)\n",
    "spec_dict[\"columns\"][\"date_of_death\"] = DateColumn(\"date_of_death\", uniques=80, anonymising_set=date_sql, cross_join=False, miss_proba=0.8)\n",
    "\n",
    "exhibit_data = xbt.Exhibit(command=\"fromspec\", source=spec_dict, output=\"dataframe\")\n",
    "anon_df = exhibit_data.generate()"
   ]
  },
  {
   "cell_type": "code",
   "execution_count": 7,
   "id": "6f2e6b84-93d7-47f7-a93b-808102eb81ce",
   "metadata": {},
   "outputs": [
    {
     "data": {
      "text/html": [
       "<div>\n",
       "<style scoped>\n",
       "    .dataframe tbody tr th:only-of-type {\n",
       "        vertical-align: middle;\n",
       "    }\n",
       "\n",
       "    .dataframe tbody tr th {\n",
       "        vertical-align: top;\n",
       "    }\n",
       "\n",
       "    .dataframe thead th {\n",
       "        text-align: right;\n",
       "    }\n",
       "</style>\n",
       "<table border=\"1\" class=\"dataframe\">\n",
       "  <thead>\n",
       "    <tr style=\"text-align: right;\">\n",
       "      <th></th>\n",
       "      <th>patient</th>\n",
       "      <th>date_of_birth</th>\n",
       "      <th>date_of_death</th>\n",
       "    </tr>\n",
       "  </thead>\n",
       "  <tbody>\n",
       "    <tr>\n",
       "      <th>0</th>\n",
       "      <td>1013281814</td>\n",
       "      <td>2007-12-08</td>\n",
       "      <td>NaT</td>\n",
       "    </tr>\n",
       "    <tr>\n",
       "      <th>1</th>\n",
       "      <td>2613691125</td>\n",
       "      <td>2020-01-22</td>\n",
       "      <td>2021-06-06</td>\n",
       "    </tr>\n",
       "    <tr>\n",
       "      <th>2</th>\n",
       "      <td>0013543945</td>\n",
       "      <td>2002-07-22</td>\n",
       "      <td>NaT</td>\n",
       "    </tr>\n",
       "    <tr>\n",
       "      <th>3</th>\n",
       "      <td>1713966817</td>\n",
       "      <td>2020-10-20</td>\n",
       "      <td>2021-12-04</td>\n",
       "    </tr>\n",
       "    <tr>\n",
       "      <th>4</th>\n",
       "      <td>2213686955</td>\n",
       "      <td>2000-08-19</td>\n",
       "      <td>NaT</td>\n",
       "    </tr>\n",
       "    <tr>\n",
       "      <th>5</th>\n",
       "      <td>2913847760</td>\n",
       "      <td>1980-05-09</td>\n",
       "      <td>NaT</td>\n",
       "    </tr>\n",
       "    <tr>\n",
       "      <th>6</th>\n",
       "      <td>0513956112</td>\n",
       "      <td>2018-03-29</td>\n",
       "      <td>2021-03-27</td>\n",
       "    </tr>\n",
       "    <tr>\n",
       "      <th>7</th>\n",
       "      <td>2213457598</td>\n",
       "      <td>1987-07-13</td>\n",
       "      <td>NaT</td>\n",
       "    </tr>\n",
       "    <tr>\n",
       "      <th>8</th>\n",
       "      <td>1713855054</td>\n",
       "      <td>1983-10-30</td>\n",
       "      <td>NaT</td>\n",
       "    </tr>\n",
       "    <tr>\n",
       "      <th>9</th>\n",
       "      <td>3013491978</td>\n",
       "      <td>2017-08-06</td>\n",
       "      <td>NaT</td>\n",
       "    </tr>\n",
       "  </tbody>\n",
       "</table>\n",
       "</div>"
      ],
      "text/plain": [
       "      patient date_of_birth date_of_death\n",
       "0  1013281814    2007-12-08           NaT\n",
       "1  2613691125    2020-01-22    2021-06-06\n",
       "2  0013543945    2002-07-22           NaT\n",
       "3  1713966817    2020-10-20    2021-12-04\n",
       "4  2213686955    2000-08-19           NaT\n",
       "5  2913847760    1980-05-09           NaT\n",
       "6  0513956112    2018-03-29    2021-03-27\n",
       "7  2213457598    1987-07-13           NaT\n",
       "8  1713855054    1983-10-30           NaT\n",
       "9  3013491978    2017-08-06           NaT"
      ]
     },
     "execution_count": 7,
     "metadata": {},
     "output_type": "execute_result"
    }
   ],
   "source": [
    "anon_df.head(10)"
   ]
  },
  {
   "cell_type": "code",
   "execution_count": 8,
   "id": "d69fccec-af34-4cb3-b7f9-11a0ef97c0d8",
   "metadata": {},
   "outputs": [
    {
     "name": "stdout",
     "output_type": "stream",
     "text": [
      "Successfully deleted 1 tables\n"
     ]
    }
   ],
   "source": [
    "# clean up the temp_tables\n",
    "db_util.purge_temp_tables()"
   ]
  }
 ],
 "metadata": {
  "kernelspec": {
   "display_name": "Python 3 (ipykernel)",
   "language": "python",
   "name": "python3"
  },
  "language_info": {
   "codemirror_mode": {
    "name": "ipython",
    "version": 3
   },
   "file_extension": ".py",
   "mimetype": "text/x-python",
   "name": "python",
   "nbconvert_exporter": "python",
   "pygments_lexer": "ipython3",
   "version": "3.10.13"
  }
 },
 "nbformat": 4,
 "nbformat_minor": 5
}
